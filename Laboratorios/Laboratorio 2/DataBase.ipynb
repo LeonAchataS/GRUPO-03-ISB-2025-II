# Temática del proyecto

## Título tentativo
"Interfaz Cerebro-Computadora para el control de dispositivos mediante detección en tiempo real de parpadeos"

## Problemática a abordar
<div align="justify">
Las personas con discapacidades motoras enfrentan grandes limitaciones para interactuar con dispositivos electrónicos y realizar tareas cotidianas. Los sistemas de control tradicionales (botones, pantallas táctiles, controles manuales) no son accesibles para todos. Se necesita un método simple, económico y en tiempo real que permita a estos pacientes controlar dispositivos básicos a través de señales biológicas. Además, según la OMS en el 2021 había más de 15 millones de personas con lesiones medulares en el mundo [1].  A nivel Perú, tan solos entre enero y mayo del 2024 el Instituto Nacional de Rehabilatación (INR) reportó más de 1500 atenciones por lesión medular [2].
</div>
