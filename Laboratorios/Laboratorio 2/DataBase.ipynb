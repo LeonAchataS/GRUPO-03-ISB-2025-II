{
  "cells": [
    {
      "cell_type": "markdown",
      "metadata": {},
      "source": [
        "# Título\n",
        "Texto en **Markdown** aquí."
      ]
    },
    {
      "cell_type": "code",
      "metadata": {},
      "source": [
        "print('Hola mundo')"
      ],
      "outputs": []
    }
  ],
  "metadata": {},
  "nbformat": 4,
  "nbformat_minor": 5
}
