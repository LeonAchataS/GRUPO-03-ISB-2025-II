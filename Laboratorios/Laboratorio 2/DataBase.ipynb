import nbformat as nbf

nb = nbf.v4.new_notebook()
text = """# Temática del proyecto

## Título tentativo  
"Interfaz Cerebro-Computadora para el control de dispositivos mediante detección en tiempo real de parpadeos"

## Problemática a abordar  
Las personas con discapacidades motoras enfrentan grandes limitaciones...
"""
nb['cells'].append(nbf.v4.new_markdown_cell(text))

with open("DataBase.ipynb", "w") as f:
    nbf.write(nb, f)

